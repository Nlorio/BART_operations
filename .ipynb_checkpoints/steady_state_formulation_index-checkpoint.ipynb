{
 "cells": [
  {
   "cell_type": "code",
   "execution_count": 1,
   "metadata": {
    "ExecuteTime": {
     "end_time": "2019-04-19T00:48:30.184631Z",
     "start_time": "2019-04-19T00:48:29.819898Z"
    }
   },
   "outputs": [],
   "source": [
    "import numpy as np\n",
    "from gurobipy import *\n"
   ]
  },
  {
   "cell_type": "markdown",
   "metadata": {},
   "source": [
    "# Steady State Formulation \n",
    "\n",
    "**Example of Formulation using GurobiPy**\n",
    "http://www.gurobi.com/resources/examples/food-manufacture-I"
   ]
  },
  {
   "cell_type": "code",
   "execution_count": 2,
   "metadata": {
    "ExecuteTime": {
     "end_time": "2019-04-19T00:48:31.488437Z",
     "start_time": "2019-04-19T00:48:31.484938Z"
    },
    "code_folding": []
   },
   "outputs": [],
   "source": [
    "# change all Hayward to Warm Springs and set a constraint where we cannot make / break at that area. \n",
    "# How do we do this as a constraint? \n",
    "# NO M/B at Hayward/WarmSprings, Concord or SFO. Have this as a constraint \n"
   ]
  },
  {
   "cell_type": "markdown",
   "metadata": {},
   "source": [
    "## Data  "
   ]
  },
  {
   "cell_type": "markdown",
   "metadata": {},
   "source": [
    "**How do we initialize according to a future schedule. What do we tell them to do in terms of train lengths. Assuming we are given a schedule.**\n",
    "\n",
    "\n",
    "**To Do**\n",
    "\n",
    "- Add the Santa Clara extension as a segment? No.\n",
    "- Add the Santa Clara extension as a yard with inventory? No.  \n",
    "- Input the additional data that we receive from Sandy\n",
    "- Account for unbreakable trains in model. Nope (reverse those changes)\n",
    "    - Have separate inventory.\n",
    "    - Separate inventory for breakable trains will coincide with the total inventory of 10 car trains at each yard.\n",
    "        - Making will occur only when there are no 10 car trains available (unbreakable or breakable)\n",
    "        - Breaking will occur only when there is a breakable train at that yard\n",
    "- Add constraints to ensure no making/breaking at end of line locations that are not yards. \n",
    "- Initialize model with the schedule\n",
    "    - The Schedule is a set of (departure time, arrival time, segment)\n",
    "- Do we need a minimum threshold to ensure that making/breaking is always possible? \n",
    "- Input the one way travel time data to the model\n",
    "- Need constraint to account for time to m/b + aux cycle + factor in for expected turn around time from data? \n",
    "\n",
    "\n",
    "**The Steady State Assumptions**\n",
    "\n",
    "- 1081 D, E cars (all 2, 3 composition) \n",
    "   - All breakable \n",
    "- Use current system map\n",
    "- No unbreakable consists\n",
    "\n",
    "- New interpretation. To be implemented. \n",
    "    - c represents the ith departure (an index)\n",
    "        - This index can retrieve alpha_{segment, yard, index} = arrival time and delta_{segment, yard, index} = departure time \n",
    "- Inventory long/short train fulfillment is always preferable to a make / break\n",
    "        \n",
    "        \n",
    "        \n",
    "**Issues**\n",
    "- Consists need to be able to get to inventory points like concord that are not explicitly part of the segments because they are not on an end of the line...\n",
    "    - We assume yards that are not at the end of the line never do m/b cause they still have passengers onboard \n",
    "    - Does this mean we should omit them entirely from our model cause they aren't at the end of a line? \n",
    "    \n",
    "    - THERE ISNT A TRAVEL SEGMENT TO GET TO SOME INVENTORY POINTS CAUSE THEY'RE NOT AT THE END OF A LINE...\n",
    "        - For now get rid of them? When we get the mile data we can input correct distance miles and what not. \n",
    "           - Unknown. Added concord back in but thats probably not appropriate. \n"
   ]
  },
  {
   "cell_type": "code",
   "execution_count": 10,
   "metadata": {
    "ExecuteTime": {
     "end_time": "2019-04-19T01:38:21.353046Z",
     "start_time": "2019-04-19T01:38:21.225523Z"
    }
   },
   "outputs": [],
   "source": [
    "## Sets\n",
    "\n",
    "# Travel segments A\n",
    "segment = np.arange(1, 13)\n",
    "\n",
    "# Day B. Model for weekdays only. \n",
    "day = [\"Mon\", \"Tues\", \"Wed\", \"Thurs\", \"Fri\"]\n",
    "\n",
    "\n",
    "# Index represents the ith departure from the start of the train segment to the end of the train segment. \n",
    "# Assume there are no more than 500 departures on a line segment for any given day. \n",
    "index = np.arange(500)\n",
    "\n",
    "\n",
    "# Read SCRAMS Data into this format. Dao will format. \n",
    "# Dictionary representing the arrival time of a consist on a segment, for a given day, for a given index. \n",
    "alpha = {}\n",
    "\n",
    "# Read SCRAMS Data into this format. Dao will format. \n",
    "# Dictionary representing the departure time of a consist on a segment, for a given day, for a given index. \n",
    "delta = {}\n",
    "\n",
    "\n",
    "## Set of departure and arrival times and the given day. From the SCRAM schedule. \n",
    "# Check that set for inventory balance requirements only rather than check every time. \n",
    "# train segment, day, time in ( (Richmond-Daly City, Monday, 0812), (Daly City - Richmond, Wed, 1917)... ) \n",
    "# As opposed to train segment in (Richmond-Daly City, Daly City- Richmond ...), time in (0000-2359)\n",
    "\n",
    "\n",
    "# Yard / Tail Tracks D (Some of these will not have m/b capacity. Determined by constraints)\n",
    "# Remove Concord from this list as it is not an end of line yard. Assume that its trains will depart from Pittsburg. \n",
    "yard_tt = [\"Richmond\", \"Daly City\", \"WarmSprings\", \"Milbrae\", \"East Dublin\", \"Pittsburg\", \"SFO\"]\n",
    "no_makebreak_yards = [\"WarmSprings, SFO\"]\n",
    "\n",
    "\n",
    "# Sequence of Train Segments E \n",
    "# line = {\"g1\" : [12], \n",
    "#     \"g2\": [11], \n",
    "#     \"o1\": [3], \n",
    "#     \"o2\": [4],\n",
    "#     \"y1\": [9], \n",
    "#     \"y2\": [10], \n",
    "#     \"r1\": [1, 5], \n",
    "#     \"r2\": [6, 2], \n",
    "#     \"b1\": [7],\n",
    "#     \"b2\": [8]}\n",
    "\n",
    "# Shift s. 19 Hours of Operation. Split this into 2 hour shifts. 9.5 shifts. 10 shifts. \n",
    "shift = np.arange(1, 11)\n",
    "    \n",
    "# Type of train t\n",
    "# 5 = 5 car consist\n",
    "# 10 =  breakable 10 car consist composed of two 5 car trains: 4 D, 6 E\n",
    "# 100 = unbreakable 10 car consist composed of: 2 D, 8 E\n",
    "typeTrain = [5, 10]\n",
    "\n",
    "# Segment to Yard/TT relation dictionary. \n",
    "segmentYard_Relation = {1 : [\"Richmond\", \"Milbrae\"], \n",
    "                       2: [\"Milbrae\", 'Richmond'], \n",
    "                       3: [\"Richmond\", \"WarmSprings\"], \n",
    "                       4: [\"WarmSprings\", \"Richmond\"], \n",
    "                       5: [\"Daly City\", \"East Dublin\"], \n",
    "                       6: [\"East Dublin\", \"Daly City\"], \n",
    "                       7: [\"Pittsburg\", \"Daly City\"], \n",
    "                       8: [\"Daly City\", \"Pittsburg\"],\n",
    "                       9: [\"Daly City\", \"WarmSprings\"], \n",
    "                       10: [\"WarmSprings\", \"Daly City\"],\n",
    "                       11: [\"Pittsburg\", \"SFO\"], \n",
    "                       12: [\"SFO\", \"Pittsburg\"]}\n",
    "#                        11: [\"Pittsburg\", \"Concord\"], \n",
    "#                        12: [\"Concord\", \"SFO\"],\n",
    "#                        13: [\"SFO\", \"Concord\"],\n",
    "#                        14: [\"Concord\", \"Pittsburg\"]}\n",
    "    \n",
    "    \n",
    "\n",
    "## Parameters\n",
    "\n",
    "# energy cost per car mile. Assume C_D = C_E = C\n",
    "energy_Cost = 0\n",
    "\n",
    "# maintenance per car mile. Assume M_D = M_E = M\n",
    "# Assuming some steady maintenance cost per mile traveled. \n",
    "maintenance_Cost = 0\n",
    "\n",
    "# Energy req to run D/E train car per car mile \n",
    "energy_Mile = {\"D\": 0,\n",
    "               \"E\": 0}\n",
    "\n",
    "\n",
    "# Cost of conducting M/B \n",
    "cost_MakeBreak = 0\n",
    "\n",
    "# Hourly wear and tear cost of operating a train_type\n",
    "wearTear_Hour = {\"D\": 0, \n",
    "                 \"E\": 0}\n",
    "\n",
    "# Hourly wage of yard operators. Are they paid hourly? (Assumption Based off GlassDoor + BART 2019 Payroll, Refine more Later)\n",
    "# hourlyWage = 32\n",
    "\n",
    "# Spare Ratio. Justify that we're not using this in the report.\n",
    "# Do this as a post processing step. Check at the end. Makes notes of this. \n",
    "spareRatio = 0.2\n",
    "\n",
    "# Total number of cars that inventory can hold in the system. Determined by total storage capacity. (Typically there is a system wide average capacity fill of 80 percent though)\n",
    "# totalCars = 2026\n",
    "\n",
    "# Bad Cars percentage in the system\n",
    "\n",
    "\n",
    "# Total number of 5 car trains that can be held in inventory at yard_tt.\n",
    "# At Start and at end of Day\n",
    "# yardInventory_5 = {\n",
    "#     \"Concord\": 9 + 19 * 2, \n",
    "#     \"Daly\": 3 + 12 * 2, \n",
    "#     \"Hayward\": 4 + 28 * 2, \n",
    "#     \"Richmond\": 7 + 16 * 2, \n",
    "#     \"Dublin\": 0 + 7 * 2,\n",
    "#     \"Milbrae\": 3 + 4 * 2,\n",
    "#     \"Pittsburg\": 0 + 2 * 2\n",
    "# }\n",
    "\n",
    "yardInventory_5 = {\n",
    "#     \"Concord\": 9, \n",
    "    \"Daly City\": 3, \n",
    "    \"WarmSprings\": 4, \n",
    "    \"Richmond\": 7, \n",
    "    \"East Dublin\": 0,\n",
    "    \"Milbrae\": 3,\n",
    "    \"Pittsburg\": 0, \n",
    "    \"SFO\": 0\n",
    "}\n",
    "\n",
    "\n",
    "# Total number of 10 car trains that can be held in inventory at yard_tt. \n",
    "# At Start and at end of Day\n",
    "yardInventory_10 = {\n",
    "#     \"Concord\": 19, \n",
    "    \"Daly City\": 12, \n",
    "    \"WarmSprings\": 28, \n",
    "    \"Richmond\": 16, \n",
    "    \"East Dublin\": 7,\n",
    "    \"Milbrae\": 4,\n",
    "    \"Pittsburg\": 2,\n",
    "    \"SFO\": 0\n",
    "}\n",
    "\n",
    "\n",
    "# Inventory. Number of cars at yard_tt Dat time C. yard, time, (Space for 5, Space for 10)\n",
    "# inventoryYard = {}\n",
    "# for yard in yard_tt:\n",
    "#     for t in time:\n",
    "#         for length in typeTrain:\n",
    "#             # Filler Entry for each possible permutation\n",
    "#             inventoryYard[(yard, length, t)] = 0\n",
    "\n",
    "\n",
    "            \n",
    "            \n",
    "# Maximum Carrying Capacity of D Car\n",
    "cc_d = 187\n",
    "\n",
    "# Maximum Carrying Capacity of E Car\n",
    "cc_e = 191\n",
    "\n",
    "\n",
    "# Number of passengers forecasted for line supported by yard_tt at a time, and day.\n",
    "# What would this data look like? Give a demand to meet per train segment? \n",
    "# Idea: Constraint TS_abc to be 1 or 0 based off of necesity to meet the passenger demand. \n",
    "# PREPROCESSING: Assume we're given a max amount of passengers that need to be able to get on a train on a given line. This can remove some DV.\n",
    "# Constraint: Assume we're given a max amount of passengers (for one of the stations on the line) that need to be able to get on a train on a given line.\n",
    "#\n",
    "# How to input the RHS of the constraint into the model. \n",
    "# What form? For each train segment, total number of passengers that are going one direction on the line for a given hour. \n",
    "# Our constraint will make sure that we have enough trains to meet this demand on the line direction for an hour. \n",
    "# This is an aggregate approach to the problem. \n",
    "\n",
    "# For each line segment, for each time, for each day. \n",
    "# Value = the maximum number of passengers that could be on a train (given demand) on a line.\n",
    "# = Number of people that want to be on the train at the busiest part of the segment. \n",
    "P_abc = {1:0,\n",
    "           2:0,\n",
    "           3:0,\n",
    "           4:0,\n",
    "           5:0,\n",
    "           6:0,\n",
    "           7:0,\n",
    "           8:0,\n",
    "           9:0,\n",
    "           10:0,\n",
    "           11:0,\n",
    "           12:0}\n",
    "#            13:0, \n",
    "#            14:0}\n",
    "\n",
    "\n",
    "# Rail distance of travel segment a. Dictionary. \n",
    "railDistance = {1:0,\n",
    "           2:0,\n",
    "           3:0,\n",
    "           4:0,\n",
    "           5:0,\n",
    "           6:0,\n",
    "           7:0,\n",
    "           8:0,\n",
    "           9:0,\n",
    "           10:0,\n",
    "           11:0,\n",
    "           12:0}\n",
    "#            13:0, \n",
    "#            14:0}\n",
    "\n",
    "# One wy travel time for travel segment a. Dictionary. \n",
    "# Need distance to get proportion to be able to compute this. \n",
    "owTravel = {1:69,\n",
    "           2:69,\n",
    "           3:62,\n",
    "           4:62,\n",
    "           5:64,\n",
    "           6:64,\n",
    "           7:71,\n",
    "           8:71,\n",
    "           9:71,\n",
    "           10:71,\n",
    "           11:88,\n",
    "           12:88} # Pittsburg - SFO = 88 minutes. \n",
    "#            11:11, # Filler Value: 88 * 1/8 for Pitt to Cord\n",
    "#            12:77, # Filler Value\n",
    "#            13: 77, # Filler Value\n",
    "#            14: 11} # Filler Value \n",
    "\n",
    "# Cost of hiring an additional yard team for shift s. \n",
    "# 2 people, 2 hours at a rate of 32 USD / hour\n",
    "costYardTeam_shift = {1:2*2*32, \n",
    "                     2:128,\n",
    "                     3:128,\n",
    "                     4:128,\n",
    "                     5:128,\n",
    "                     6:128,\n",
    "                     7:128,\n",
    "                     8:128,\n",
    "                     9:128,\n",
    "                     10:128}\n",
    "\n",
    "\n",
    "## Levels of operations. What would these be set by? \n",
    "# These just determine the maxium capacity (how many makes/breaks they can do). \n",
    "# Set one level for each yard. Run 3 times to test them. \n",
    "# Run 3 times, adjust threshold in the constraint & adjust the cost that it will infer on the objective function. \n",
    "# In this case there would be no DV. \n",
    "# - Low Case - Less workers than current operations. \n",
    "# - Base case (current operations)\n",
    "# - High Case - Additional workers in a shift \n",
    "\n",
    "# Just test the 3 cases? Dont need to write them in as DV. \n",
    "\n"
   ]
  },
  {
   "cell_type": "code",
   "execution_count": null,
   "metadata": {
    "ExecuteTime": {
     "end_time": "2019-04-12T21:04:19.779704Z",
     "start_time": "2019-04-12T21:04:19.607816Z"
    }
   },
   "outputs": [],
   "source": []
  },
  {
   "cell_type": "markdown",
   "metadata": {},
   "source": [
    "## Model"
   ]
  },
  {
   "cell_type": "markdown",
   "metadata": {},
   "source": [
    "### Decision Variables"
   ]
  },
  {
   "cell_type": "code",
   "execution_count": 4,
   "metadata": {
    "ExecuteTime": {
     "end_time": "2019-04-19T00:49:06.381361Z",
     "start_time": "2019-04-19T00:49:06.086720Z"
    }
   },
   "outputs": [
    {
     "name": "stdout",
     "output_type": "stream",
     "text": [
      "Academic license - for non-commercial use only\n"
     ]
    }
   ],
   "source": [
    "# Create a new model\n",
    "model = Model('steady state fleet')\n",
    "\n",
    "# Create variables\n",
    "# Binary Variable. Type of train from travel segment a, at departure time b, day c\n",
    "segmentTrain = model.addVars(segment, day, index, vtype=GRB.BINARY, name=\"segmentTrain\")\n",
    "\n",
    "# Binary Variable. Level of staff needed at yard y and shift s\n",
    "levelStaff = model.addVars(yard_tt, shift, vtype=GRB.BINARY, name=\"levelStaff\")\n",
    "\n",
    "model.update()\n",
    "\n",
    "# AUXILIARY VARIABLE NOT DV. Inventory Variable. Balance at yard_tt, of specified length, at a given time. \n",
    "inventoryYard = model.addVars(yard_tt, typeTrain, index, name=\"inventoryYard\")\n",
    "model.update()"
   ]
  },
  {
   "cell_type": "markdown",
   "metadata": {},
   "source": [
    "### Objective Function"
   ]
  },
  {
   "cell_type": "code",
   "execution_count": 5,
   "metadata": {
    "ExecuteTime": {
     "end_time": "2019-04-19T00:49:18.987585Z",
     "start_time": "2019-04-19T00:49:18.159665Z"
    }
   },
   "outputs": [],
   "source": [
    "obj = ((2 * energy_Mile.get(\"D\") + 3 * energy_Mile.get(\"E\")) * energy_Cost \n",
    "       * sum([(1 + segmentTrain.get((a, b, c))) * railDistance.get(a) for a, b, c in [(a, b, c) for a in segment for b in day for c in index]])\n",
    "      \n",
    "      + sum([levelStaff.get((y, s)) * costYardTeam_shift.get(s) for y, s in [(y, s) for y in yard_tt for s in shift]])\n",
    "      \n",
    "      + cost_MakeBreak * sum([(segmentTrain.get((a, b, c)) * (1 if (inventoryYard.get((y, 10, c)) < 1 and inventoryYard.get((y, 5, c)) >= 2) else 0) \n",
    "                      + (1 - segmentTrain.get((a, b, c))) * (1 if (inventoryYard.get((y, 5, c)) < 1 and inventoryYard.get((y, 10, c) >= 1)) else 0)) \n",
    "                      for a, b, c, y in [(a, b, c, y) \n",
    "                                         for a in segment if segmentYard_Relation.get(a)[0] == y \n",
    "                                         for b in day \n",
    "                                         for c in index \n",
    "                                         for y in yard_tt]])    \n",
    "      + (2 * wearTear_Hour.get(\"D\") + 3 * wearTear_Hour.get(\"E\")) * maintenance_Cost \n",
    "      * sum([(1 + segmentTrain.get((a, b, c))) * railDistance.get(a) for a, b, c in [(a, b, c) for a in segment for b in day for c in index]]))"
   ]
  },
  {
   "cell_type": "code",
   "execution_count": 6,
   "metadata": {
    "ExecuteTime": {
     "end_time": "2019-04-19T00:49:19.924573Z",
     "start_time": "2019-04-19T00:49:19.868994Z"
    }
   },
   "outputs": [],
   "source": [
    "model.setObjective(obj, GRB.MINIMIZE)"
   ]
  },
  {
   "cell_type": "markdown",
   "metadata": {},
   "source": [
    "### Constraints\n"
   ]
  },
  {
   "cell_type": "code",
   "execution_count": 7,
   "metadata": {
    "ExecuteTime": {
     "end_time": "2019-04-18T22:42:09.366457Z",
     "start_time": "2019-04-18T22:42:09.307401Z"
    }
   },
   "outputs": [],
   "source": [
    "# Testing stuff\n"
   ]
  },
  {
   "cell_type": "code",
   "execution_count": 8,
   "metadata": {
    "ExecuteTime": {
     "end_time": "2019-04-18T22:42:09.375256Z",
     "start_time": "2019-04-18T22:42:09.370818Z"
    }
   },
   "outputs": [],
   "source": [
    "# Meet Carrying Capacity (DEMAND)\n",
    "# ?\n"
   ]
  },
  {
   "cell_type": "code",
   "execution_count": 10,
   "metadata": {
    "ExecuteTime": {
     "end_time": "2019-04-18T22:42:09.409779Z",
     "start_time": "2019-04-18T22:42:09.406324Z"
    }
   },
   "outputs": [],
   "source": [
    "# Run trains across all lines E.\n",
    "# ?\n"
   ]
  },
  {
   "cell_type": "code",
   "execution_count": 9,
   "metadata": {
    "ExecuteTime": {
     "end_time": "2019-04-19T00:58:55.825162Z",
     "start_time": "2019-04-19T00:58:55.683538Z"
    },
    "scrolled": true
   },
   "outputs": [
    {
     "data": {
      "text/plain": [
       "0"
      ]
     },
     "execution_count": 9,
     "metadata": {},
     "output_type": "execute_result"
    }
   ],
   "source": [
    "# Inventory Non Negativity. Binary Nature of Other DV set when initialized.\n",
    "model.addConstrs((inventoryYard.get((yard, l, t)) >= 0 for yard, l, t in [(yard, l, t) for yard in yard_tt for l in typeTrain for t in index]))\n",
    "0"
   ]
  },
  {
   "cell_type": "code",
   "execution_count": 12,
   "metadata": {
    "ExecuteTime": {
     "end_time": "2019-04-18T22:42:09.759418Z",
     "start_time": "2019-04-18T22:42:09.748123Z"
    }
   },
   "outputs": [
    {
     "data": {
      "text/plain": [
       "{'Daly City': <gurobi.Constr *Awaiting Model Update*>,\n",
       " 'East Dublin': <gurobi.Constr *Awaiting Model Update*>,\n",
       " 'Milbrae': <gurobi.Constr *Awaiting Model Update*>,\n",
       " 'Pittsburg': <gurobi.Constr *Awaiting Model Update*>,\n",
       " 'Richmond': <gurobi.Constr *Awaiting Model Update*>,\n",
       " 'SFO': <gurobi.Constr *Awaiting Model Update*>,\n",
       " 'WarmSprings': <gurobi.Constr *Awaiting Model Update*>}"
      ]
     },
     "execution_count": 12,
     "metadata": {},
     "output_type": "execute_result"
    }
   ],
   "source": [
    "# For first departure of the day \n",
    "model.addConstrs((inventoryYard.get((yard, 5, 0)) <= yardInventory_5.get(yard) for yard in yard_tt))\n",
    "\n",
    "# For last departure of the day?\n",
    "\n",
    "# model.addConstrs((inventoryYard.get((yard, 5, 300)) <= yardInventory_5.get(yard) for yard in yard_tt))\n",
    "# model.addConstrs((inventoryYard.get((yard, 5, 1440)) <= yardInventory_5.get(yard) for yard in yard_tt))\n",
    "# model.addConstrs((inventoryYard.get((yard, 10, 300)) <= yardInventory_10.get(yard) for yard in yard_tt))\n",
    "# model.addConstrs((inventoryYard.get((yard, 10, 1440)) <= yardInventory_10.get(yard) for yard in yard_tt))\n",
    "# 0"
   ]
  },
  {
   "cell_type": "code",
   "execution_count": 13,
   "metadata": {
    "ExecuteTime": {
     "end_time": "2019-04-18T22:42:09.769815Z",
     "start_time": "2019-04-18T22:42:09.763181Z"
    }
   },
   "outputs": [],
   "source": [
    "# # Inventory at start and end of the day must be below or meet inventory capacity. \n",
    "# for yard in yard_tt:\n",
    "#     for t in typeTrain:\n",
    "#         # 300 is start of day\n",
    "#         # 1440 is end of day\n",
    "#         # When both sets of constraints are introduced below the model is infeasible.Just one. Ok. \n",
    "#         if t == 5:\n",
    "#             model.addConstr(inventoryYard.get((yard, t, 300)) <= yardInventory_5.get(yard))\n",
    "#             model.addConstr(inventoryYard.get((yard, t, 1440)) <= yardInventory_5.get(yard))\n",
    "#         if t == 10: \n",
    "#             model.addConstr(inventoryYard.get((yard, t, 300)) <= yardInventory_10.get(yard))\n",
    "#             model.addConstr(inventoryYard.get((yard, t, 1440)) <= yardInventory_10.get(yard))\n",
    "            \n",
    "# 0"
   ]
  },
  {
   "cell_type": "code",
   "execution_count": 27,
   "metadata": {
    "ExecuteTime": {
     "end_time": "2019-04-19T00:41:21.519681Z",
     "start_time": "2019-04-19T00:41:21.031581Z"
    }
   },
   "outputs": [
    {
     "data": {
      "text/plain": [
       "0"
      ]
     },
     "execution_count": 27,
     "metadata": {},
     "output_type": "execute_result"
    }
   ],
   "source": [
    "## Inventory Balance at Yard / Tail Track (10 Car Breakable) \n",
    "\n",
    "\n",
    "# Update 10 Car Inventory. TS_abc = 1. Trains arriving. \n",
    "model.addConstrs((inventoryYard.get((y, l, t)) == inventoryYard.get((y, l, t-1)) \n",
    "                  + segmentTrain.get((seg, d, t)) \n",
    "                 for y, l, seg, d, t in [(y, l, seg, d, t) \n",
    "                 for y in yard_tt for seg in segment if segmentYard_Relation.get(a)[1] == y \n",
    "                 for d in day for t in time if t > 300 for l in typeTrain if l == 10]))\n",
    "\n",
    "\n",
    "# Update 10 Car Inventory. TS_abc = 1. Trains departing. \n",
    "model.addConstrs((inventoryYard.get((y, l, t)) == inventoryYard.get((y, l, t-1)) \n",
    "                  - segmentTrain.get((seg, d, t)) \n",
    "                  for y, l, seg, d, t in [(y, l, seg, d, t) for y in yard_tt \n",
    "                  for seg in segment if segmentYard_Relation.get(a)[0] == y \n",
    "                  for d in day for t in time if t > 300 for l in typeTrain if l == 10]))\n",
    "\n",
    "0"
   ]
  },
  {
   "cell_type": "code",
   "execution_count": 28,
   "metadata": {
    "ExecuteTime": {
     "end_time": "2019-04-19T00:41:28.333063Z",
     "start_time": "2019-04-19T00:41:27.716519Z"
    }
   },
   "outputs": [
    {
     "data": {
      "text/plain": [
       "0"
      ]
     },
     "execution_count": 28,
     "metadata": {},
     "output_type": "execute_result"
    }
   ],
   "source": [
    "## Inventory Balance at Yard / Tail Track (5 Car Makable) \n",
    "\n",
    "\n",
    "# Update 5 Car Inventory. TS_abc = 0. Trains arriving. \n",
    "model.addConstrs((inventoryYard.get((y, l, t)) == inventoryYard.get((y, l, t-1)) \n",
    "                  + (1 - segmentTrain.get((seg, d, t))) \n",
    "                 for y, l, seg, d, t in [(y, l, seg, d, t) \n",
    "                 for y in yard_tt for seg in segment if segmentYard_Relation.get(a)[1] == y \n",
    "                 for d in day for t in index if t > 300 for l in typeTrain if l == 5]))\n",
    "\n",
    "\n",
    "# Update 5 Car Inventory. TS_abc = 0. Trains departing. \n",
    "model.addConstrs((inventoryYard.get((y, l, t)) == inventoryYard.get((y, l, t-1)) \n",
    "                  - (1 - segmentTrain.get((seg, d, t))) \n",
    "                  for y, l, seg, d, t in [(y, l, seg, d, t) \n",
    "                  for y in yard_tt for seg in segment if segmentYard_Relation.get(a)[0] == y \n",
    "                  for d in day for t in index if t > 300 for l in typeTrain if l == 5]))\n",
    "\n",
    "0"
   ]
  },
  {
   "cell_type": "code",
   "execution_count": 16,
   "metadata": {
    "ExecuteTime": {
     "end_time": "2019-04-18T22:42:18.957073Z",
     "start_time": "2019-04-18T22:42:18.951751Z"
    }
   },
   "outputs": [],
   "source": [
    "# NO M/B at Hayward/WarmSprings, Concord, or SFO. Have this as a constraint. How could I do this? \n",
    "# (Similar approach to the Obj approach)\n",
    "\n",
    "no_makebreak_yards = [\"WarmSprings, SFO\"]\n",
    "# perhaps use these as indicators to let the model know that we can't make/break at these yards. \n",
    "# A train segment that arrives as a 1 must leave as a 1 in the next train segment and vice a versa. \n",
    "\n",
    "# model.addConstrs((segmentTrain.get((seg_departure, d, i)) == segmentTrain.get((seg_departing, d, i))))\n",
    "    \n"
   ]
  },
  {
   "cell_type": "code",
   "execution_count": null,
   "metadata": {
    "ExecuteTime": {
     "end_time": "2019-04-12T22:13:10.745953Z",
     "start_time": "2019-04-12T22:13:08.214396Z"
    }
   },
   "outputs": [],
   "source": [
    "# Force train segment to change \n",
    "# if making/breaking is not possible and if inventory fulfillment is not possible at the yard \n",
    "\n",
    "# Train segment must be zero if the yard of departure does not have enough inventory for fulfillment or for making trains\n",
    "# model.addConstrs(segmentTrain.get((seg, d, i)) == 0 \n",
    "#                  for seg, d, i in [(seg, d, i) \n",
    "#                                           for seg in segment if (inventoryYard.get((segmentYard_Relation.get(seg)[0], 10, c)) == 0 \n",
    "#                                                             and inventoryYard.get((segmentYard_Relation.get(seg)[0], 5, c)) <= 1)\n",
    "#                                           for d in day\n",
    "#                                           for i in index])\n",
    "\n",
    "\n",
    "# These constraints will not work because they are not independent from eachother. These constraints are covered by the objective function anyhow..\n",
    "\n",
    "# # Segment can not run a long train if a make is not possible at its departure yard or inventory. If it cant be 1 than it must be 0.\n",
    "# # Less than or equal to 1 5 car train at yard \n",
    "# # 0 10 car trains \n",
    "# # AND TRYING TO MAKE \n",
    "model.addConstrs(segmentTrain.get((a, b, c)) == 0 for a, b, c in [(a, b, c) \n",
    "                  for a in segment if (inventoryYard.get((segmentYard_Relation.get(a)[0], 5, c)) <= 1 and \n",
    "                                       inventoryYard.get((segmentYard_Relation.get(a)[0], 10, c)) == 0)\n",
    "                                       for b in day \n",
    "                                       for c in index])\n",
    "\n",
    "# # Segment can not run a short train if a break is not possible at its departure yard or inventory. If it cant be 0 than it must be 1.\n",
    "# # 0 breakable cars at that yard \n",
    "# # 0 5 car trains at that yard \n",
    "# # AND TRYING TO BREAK\n",
    "model.addConstrs(segmentTrain.get((a, b, c)) == 1 for a, b, c in [(a, b, c) \n",
    "                  for a in segment if (inventoryYard.get((segmentYard_Relation.get(a)[0], 5, c)) == 0 and \n",
    "                                       inventoryYard.get((segmentYard_Relation.get(a)[0], 10, c)) == 0) \n",
    "                                       for b in day \n",
    "                                       for c in index])\n",
    "0\n"
   ]
  },
  {
   "cell_type": "code",
   "execution_count": null,
   "metadata": {},
   "outputs": [],
   "source": []
  },
  {
   "cell_type": "markdown",
   "metadata": {},
   "source": [
    "### Solve "
   ]
  },
  {
   "cell_type": "markdown",
   "metadata": {},
   "source": [
    "- Model is infeasible when 5 car inventory balance constraints and 10 car inventory balance constraints are both introduced. \n",
    "    - Model has solution when only one of the set of constraints is introduced. \n",
    "    - Both sets of constraints combined produces a solution when no other constraints are introduced additionally. "
   ]
  },
  {
   "cell_type": "code",
   "execution_count": 17,
   "metadata": {
    "ExecuteTime": {
     "end_time": "2019-04-18T22:42:20.047573Z",
     "start_time": "2019-04-18T22:42:18.962853Z"
    }
   },
   "outputs": [
    {
     "name": "stdout",
     "output_type": "stream",
     "text": [
      "Optimize a model with 289588 rows, 84504 columns and 836788 nonzeros\n",
      "Variable types: 15974 continuous, 68530 integer (68530 binary)\n",
      "Coefficient statistics:\n",
      "  Matrix range     [1e+00, 1e+00]\n",
      "  Objective range  [1e+02, 1e+02]\n",
      "  Bounds range     [1e+00, 1e+00]\n",
      "  RHS range        [1e+00, 7e+00]\n",
      "Presolve removed 289588 rows and 84504 columns\n",
      "Presolve time: 0.54s\n",
      "Presolve: All rows and columns removed\n",
      "\n",
      "Explored 0 nodes (0 simplex iterations) in 0.91 seconds\n",
      "Thread count was 1 (of 8 available processors)\n",
      "\n",
      "Solution count 1: 0 \n",
      "\n",
      "Optimal solution found (tolerance 1.00e-04)\n",
      "Best objective 0.000000000000e+00, best bound 0.000000000000e+00, gap 0.0000%\n"
     ]
    }
   ],
   "source": [
    "model.update()\n",
    "model.optimize()\n"
   ]
  },
  {
   "cell_type": "raw",
   "metadata": {
    "ExecuteTime": {
     "end_time": "2019-04-16T00:52:47.625684Z",
     "start_time": "2019-04-16T00:52:47.618826Z"
    }
   },
   "source": [
    "# Print out the first 10 results of each variable. \n",
    "\n",
    "# i = 0\n",
    "# for segT in segmentTrain:\n",
    "#     print(segT)\n",
    "#     i += 1\n",
    "#     if (i == 10):\n",
    "#         break\n",
    "\n",
    "# for v in model.getVars():    \n",
    "#     print(\"%s %f\" % (v.Varname, v.X))"
   ]
  },
  {
   "cell_type": "code",
   "execution_count": null,
   "metadata": {},
   "outputs": [],
   "source": []
  }
 ],
 "metadata": {
  "kernelspec": {
   "display_name": "Python 3",
   "language": "python",
   "name": "python3"
  },
  "language_info": {
   "codemirror_mode": {
    "name": "ipython",
    "version": 2
   },
   "file_extension": ".py",
   "mimetype": "text/x-python",
   "name": "python",
   "nbconvert_exporter": "python",
   "pygments_lexer": "ipython2",
   "version": "2.7.15rc1"
  }
 },
 "nbformat": 4,
 "nbformat_minor": 2
}
