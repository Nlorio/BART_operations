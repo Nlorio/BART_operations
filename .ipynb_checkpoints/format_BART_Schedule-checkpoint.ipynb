{
 "cells": [
  {
   "cell_type": "markdown",
   "metadata": {},
   "source": [
    "BART API Link http://api.bart.gov/docs/overview/index.aspx "
   ]
  },
  {
   "cell_type": "code",
   "execution_count": 1,
   "metadata": {
    "ExecuteTime": {
     "end_time": "2019-04-22T00:59:55.372979Z",
     "start_time": "2019-04-22T00:59:55.140303Z"
    }
   },
   "outputs": [],
   "source": [
    "import numpy as np\n",
    "import pandas as pd\n",
    "import pickle\n",
    "import time\n",
    "import datetime"
   ]
  },
  {
   "cell_type": "markdown",
   "metadata": {},
   "source": [
    "## BART Schedule Read In"
   ]
  },
  {
   "cell_type": "code",
   "execution_count": 2,
   "metadata": {
    "ExecuteTime": {
     "end_time": "2019-04-22T00:59:55.395799Z",
     "start_time": "2019-04-22T00:59:55.376682Z"
    }
   },
   "outputs": [],
   "source": [
    "green_schedule = pd.read_csv('2028_BART_Schedule/Green_BART_schedule.csv')\n",
    "blue_schedule = pd.read_csv('2028_BART_Schedule/Blue_BART_schedule.csv')\n",
    "red_schedule = pd.read_csv('2028_BART_Schedule/Red_BART_schedule.csv')\n",
    "orange_schedule = pd.read_csv('2028_BART_Schedule/Orange_BART_schedule.csv')\n",
    "yellow_schedule = pd.read_csv('2028_BART_Schedule/Yellow_BART_schedule.csv')\n"
   ]
  },
  {
   "cell_type": "code",
   "execution_count": 3,
   "metadata": {
    "ExecuteTime": {
     "end_time": "2019-04-22T00:59:55.422626Z",
     "start_time": "2019-04-22T00:59:55.400048Z"
    }
   },
   "outputs": [
    {
     "data": {
      "text/html": [
       "<div>\n",
       "<style scoped>\n",
       "    .dataframe tbody tr th:only-of-type {\n",
       "        vertical-align: middle;\n",
       "    }\n",
       "\n",
       "    .dataframe tbody tr th {\n",
       "        vertical-align: top;\n",
       "    }\n",
       "\n",
       "    .dataframe thead th {\n",
       "        text-align: right;\n",
       "    }\n",
       "</style>\n",
       "<table border=\"1\" class=\"dataframe\">\n",
       "  <thead>\n",
       "    <tr style=\"text-align: right;\">\n",
       "      <th></th>\n",
       "      <th>Departure Index (c)</th>\n",
       "      <th>Travel segment (a)</th>\n",
       "      <th>Day (b)</th>\n",
       "      <th>Time of departure (2400)</th>\n",
       "      <th>Arrival Time</th>\n",
       "    </tr>\n",
       "  </thead>\n",
       "  <tbody>\n",
       "    <tr>\n",
       "      <th>0</th>\n",
       "      <td>1</td>\n",
       "      <td>11</td>\n",
       "      <td>Mon</td>\n",
       "      <td>5:12</td>\n",
       "      <td>6:27</td>\n",
       "    </tr>\n",
       "    <tr>\n",
       "      <th>1</th>\n",
       "      <td>2</td>\n",
       "      <td>11</td>\n",
       "      <td>Mon</td>\n",
       "      <td>5:24</td>\n",
       "      <td>6:39</td>\n",
       "    </tr>\n",
       "    <tr>\n",
       "      <th>2</th>\n",
       "      <td>3</td>\n",
       "      <td>11</td>\n",
       "      <td>Mon</td>\n",
       "      <td>5:36</td>\n",
       "      <td>6:51</td>\n",
       "    </tr>\n",
       "    <tr>\n",
       "      <th>3</th>\n",
       "      <td>4</td>\n",
       "      <td>11</td>\n",
       "      <td>Mon</td>\n",
       "      <td>5:48</td>\n",
       "      <td>7:03</td>\n",
       "    </tr>\n",
       "    <tr>\n",
       "      <th>4</th>\n",
       "      <td>5</td>\n",
       "      <td>11</td>\n",
       "      <td>Mon</td>\n",
       "      <td>6:00</td>\n",
       "      <td>7:15</td>\n",
       "    </tr>\n",
       "  </tbody>\n",
       "</table>\n",
       "</div>"
      ],
      "text/plain": [
       "   Departure Index (c)  Travel segment (a) Day (b) Time of departure (2400)  \\\n",
       "0                    1                  11     Mon                     5:12   \n",
       "1                    2                  11     Mon                     5:24   \n",
       "2                    3                  11     Mon                     5:36   \n",
       "3                    4                  11     Mon                     5:48   \n",
       "4                    5                  11     Mon                     6:00   \n",
       "\n",
       "  Arrival Time  \n",
       "0         6:27  \n",
       "1         6:39  \n",
       "2         6:51  \n",
       "3         7:03  \n",
       "4         7:15  "
      ]
     },
     "execution_count": 3,
     "metadata": {},
     "output_type": "execute_result"
    }
   ],
   "source": [
    "green_schedule.head()"
   ]
  },
  {
   "cell_type": "code",
   "execution_count": 4,
   "metadata": {
    "ExecuteTime": {
     "end_time": "2019-04-22T00:59:55.434296Z",
     "start_time": "2019-04-22T00:59:55.427171Z"
    }
   },
   "outputs": [],
   "source": [
    "line_schedules = pd.concat([green_schedule, blue_schedule, red_schedule, orange_schedule, yellow_schedule])"
   ]
  },
  {
   "cell_type": "code",
   "execution_count": 5,
   "metadata": {
    "ExecuteTime": {
     "end_time": "2019-04-22T00:59:55.445152Z",
     "start_time": "2019-04-22T00:59:55.438670Z"
    }
   },
   "outputs": [],
   "source": [
    "line_schedules = line_schedules.drop([\"Day (b)\"], axis=1)"
   ]
  },
  {
   "cell_type": "code",
   "execution_count": 6,
   "metadata": {
    "ExecuteTime": {
     "end_time": "2019-04-22T00:59:55.471809Z",
     "start_time": "2019-04-22T00:59:55.448907Z"
    }
   },
   "outputs": [
    {
     "data": {
      "text/html": [
       "<div>\n",
       "<style scoped>\n",
       "    .dataframe tbody tr th:only-of-type {\n",
       "        vertical-align: middle;\n",
       "    }\n",
       "\n",
       "    .dataframe tbody tr th {\n",
       "        vertical-align: top;\n",
       "    }\n",
       "\n",
       "    .dataframe thead th {\n",
       "        text-align: right;\n",
       "    }\n",
       "</style>\n",
       "<table border=\"1\" class=\"dataframe\">\n",
       "  <thead>\n",
       "    <tr style=\"text-align: right;\">\n",
       "      <th></th>\n",
       "      <th>Departure Index (c)</th>\n",
       "      <th>Travel segment (a)</th>\n",
       "      <th>Time of departure (2400)</th>\n",
       "      <th>Arrival Time</th>\n",
       "    </tr>\n",
       "  </thead>\n",
       "  <tbody>\n",
       "    <tr>\n",
       "      <th>0</th>\n",
       "      <td>1</td>\n",
       "      <td>11</td>\n",
       "      <td>5:12</td>\n",
       "      <td>6:27</td>\n",
       "    </tr>\n",
       "    <tr>\n",
       "      <th>1</th>\n",
       "      <td>2</td>\n",
       "      <td>11</td>\n",
       "      <td>5:24</td>\n",
       "      <td>6:39</td>\n",
       "    </tr>\n",
       "    <tr>\n",
       "      <th>2</th>\n",
       "      <td>3</td>\n",
       "      <td>11</td>\n",
       "      <td>5:36</td>\n",
       "      <td>6:51</td>\n",
       "    </tr>\n",
       "    <tr>\n",
       "      <th>3</th>\n",
       "      <td>4</td>\n",
       "      <td>11</td>\n",
       "      <td>5:48</td>\n",
       "      <td>7:03</td>\n",
       "    </tr>\n",
       "    <tr>\n",
       "      <th>4</th>\n",
       "      <td>5</td>\n",
       "      <td>11</td>\n",
       "      <td>6:00</td>\n",
       "      <td>7:15</td>\n",
       "    </tr>\n",
       "  </tbody>\n",
       "</table>\n",
       "</div>"
      ],
      "text/plain": [
       "   Departure Index (c)  Travel segment (a) Time of departure (2400)  \\\n",
       "0                    1                  11                     5:12   \n",
       "1                    2                  11                     5:24   \n",
       "2                    3                  11                     5:36   \n",
       "3                    4                  11                     5:48   \n",
       "4                    5                  11                     6:00   \n",
       "\n",
       "  Arrival Time  \n",
       "0         6:27  \n",
       "1         6:39  \n",
       "2         6:51  \n",
       "3         7:03  \n",
       "4         7:15  "
      ]
     },
     "execution_count": 6,
     "metadata": {},
     "output_type": "execute_result"
    }
   ],
   "source": [
    "line_schedules.head()\n",
    "# line_schedules.to_pickle"
   ]
  },
  {
   "cell_type": "markdown",
   "metadata": {},
   "source": [
    "### Convert all times to minutes "
   ]
  },
  {
   "cell_type": "code",
   "execution_count": 7,
   "metadata": {
    "ExecuteTime": {
     "end_time": "2019-04-22T00:59:55.482222Z",
     "start_time": "2019-04-22T00:59:55.476572Z"
    }
   },
   "outputs": [],
   "source": [
    "def convert_minutes(string_time):\n",
    "    x = time.strptime(string_time, '%H:%M')\n",
    "    return datetime.timedelta(hours=x.tm_hour,minutes=x.tm_min,seconds=x.tm_sec).total_seconds() // 60\n",
    "    \n",
    "# datetime.timedelta(hours)"
   ]
  },
  {
   "cell_type": "code",
   "execution_count": 8,
   "metadata": {
    "ExecuteTime": {
     "end_time": "2019-04-22T00:59:55.492151Z",
     "start_time": "2019-04-22T00:59:55.485066Z"
    }
   },
   "outputs": [
    {
     "data": {
      "text/plain": [
       "60.0"
      ]
     },
     "execution_count": 8,
     "metadata": {},
     "output_type": "execute_result"
    }
   ],
   "source": [
    "convert_minutes('1:00')"
   ]
  },
  {
   "cell_type": "code",
   "execution_count": 9,
   "metadata": {
    "ExecuteTime": {
     "end_time": "2019-04-22T00:59:55.525541Z",
     "start_time": "2019-04-22T00:59:55.496440Z"
    }
   },
   "outputs": [],
   "source": [
    "# Run Once. \n",
    "line_schedules['Time of departure (2400)'] = line_schedules['Time of departure (2400)'].apply(lambda x: convert_minutes(x))\n",
    "line_schedules['Arrival Time'] = line_schedules['Arrival Time'].apply(lambda x: convert_minutes(x))\n"
   ]
  },
  {
   "cell_type": "code",
   "execution_count": 19,
   "metadata": {
    "ExecuteTime": {
     "end_time": "2019-04-22T19:33:23.813075Z",
     "start_time": "2019-04-22T19:33:23.802747Z"
    }
   },
   "outputs": [
    {
     "data": {
      "text/plain": [
       "array([[  11.,  312.],\n",
       "       [  11.,  324.],\n",
       "       [  11.,  336.],\n",
       "       ...,\n",
       "       [  10., 1410.],\n",
       "       [  10., 1425.],\n",
       "       [  10.,    0.]])"
      ]
     },
     "execution_count": 19,
     "metadata": {},
     "output_type": "execute_result"
    }
   ],
   "source": [
    "line_schedules[[\"Travel segment (a)\", \"Time of departure (2400)\"]].values"
   ]
  },
  {
   "cell_type": "code",
   "execution_count": 18,
   "metadata": {
    "ExecuteTime": {
     "end_time": "2019-04-22T19:30:28.086565Z",
     "start_time": "2019-04-22T19:30:28.079389Z"
    }
   },
   "outputs": [],
   "source": [
    "line_schedules.to_pickle(\"line_schedules.pkl\")"
   ]
  },
  {
   "cell_type": "code",
   "execution_count": null,
   "metadata": {},
   "outputs": [],
   "source": []
  }
 ],
 "metadata": {
  "kernelspec": {
   "display_name": "Python 3",
   "language": "python",
   "name": "python3"
  },
  "language_info": {
   "codemirror_mode": {
    "name": "ipython",
    "version": 2
   },
   "file_extension": ".py",
   "mimetype": "text/x-python",
   "name": "python",
   "nbconvert_exporter": "python",
   "pygments_lexer": "ipython2",
   "version": "2.7.15rc1"
  }
 },
 "nbformat": 4,
 "nbformat_minor": 2
}
